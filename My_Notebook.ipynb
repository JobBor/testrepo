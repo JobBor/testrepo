{
 "cells": [
  {
   "cell_type": "code",
   "execution_count": 2,
   "id": "c7133bd8-5553-4c25-b1ed-b8d8b563f697",
   "metadata": {},
   "outputs": [
    {
     "data": {
      "text/plain": [
       "2"
      ]
     },
     "execution_count": 2,
     "metadata": {},
     "output_type": "execute_result"
    }
   ],
   "source": [
    "1+1"
   ]
  },
  {
   "cell_type": "markdown",
   "id": "58663a1a-321a-4b17-bef5-53f48e70e9ef",
   "metadata": {},
   "source": [
    "9+8"
   ]
  },
  {
   "cell_type": "code",
   "execution_count": null,
   "id": "b4dee581-d58a-4eea-86c9-8ec416062a87",
   "metadata": {},
   "outputs": [],
   "source": []
  }
 ],
 "metadata": {
  "kernelspec": {
   "display_name": "Python",
   "language": "python",
   "name": "conda-env-python-py"
  },
  "language_info": {
   "codemirror_mode": {
    "name": "ipython",
    "version": 3
   },
   "file_extension": ".py",
   "mimetype": "text/x-python",
   "name": "python",
   "nbconvert_exporter": "python",
   "pygments_lexer": "ipython3",
   "version": "3.7.12"
  }
 },
 "nbformat": 4,
 "nbformat_minor": 5
}
